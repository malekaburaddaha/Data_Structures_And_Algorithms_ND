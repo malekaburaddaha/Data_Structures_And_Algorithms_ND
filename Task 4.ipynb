{
 "cells": [
  {
   "cell_type": "code",
   "execution_count": 1,
   "metadata": {},
   "outputs": [
    {
     "data": {
      "text/plain": [
       "'\\nTASK 4:\\nThe telephone company want to identify numbers that might be doing\\ntelephone marketing. Create a set of possible telemarketers:\\nthese are numbers that make outgoing calls but never send texts,\\nreceive texts or receive incoming calls.\\n\\nPrint a message:\\n\"These numbers could be telemarketers: \"\\n<list of numbers>\\nThe list of numbers should be print out one per line in lexicographic order with no duplicates.\\n'"
      ]
     },
     "execution_count": 1,
     "metadata": {},
     "output_type": "execute_result"
    }
   ],
   "source": [
    "\"\"\"\n",
    "Read file into texts and calls.\n",
    "It's ok if you don't understand how to read files.\n",
    "\"\"\"\n",
    "import csv\n",
    "\n",
    "with open('texts.csv', 'r') as f:\n",
    "    reader = csv.reader(f)\n",
    "    texts = list(reader)\n",
    "\n",
    "with open('calls.csv', 'r') as f:\n",
    "    reader = csv.reader(f)\n",
    "    calls = list(reader)\n",
    "\n",
    "\"\"\"\n",
    "TASK 4:\n",
    "The telephone company want to identify numbers that might be doing\n",
    "telephone marketing. Create a set of possible telemarketers:\n",
    "these are numbers that make outgoing calls but never send texts,\n",
    "receive texts or receive incoming calls.\n",
    "\n",
    "Print a message:\n",
    "\"These numbers could be telemarketers: \"\n",
    "<list of numbers>\n",
    "The list of numbers should be print out one per line in lexicographic order with no duplicates.\n",
    "\"\"\"\n"
   ]
  },
  {
   "cell_type": "code",
   "execution_count": 2,
   "metadata": {},
   "outputs": [],
   "source": [
    "Tele = []\n",
    "\n",
    "for n in calls:\n",
    "    if n[0][:3]== '140':\n",
    "        Tele.append(n[0])    "
   ]
  },
  {
   "cell_type": "markdown",
   "metadata": {},
   "source": [
    "# Based on the work done in the previous tasks, I found out that the numbers in Tele list made only phone calls and did not text/recieve texts or receive calls"
   ]
  },
  {
   "cell_type": "code",
   "execution_count": 11,
   "metadata": {},
   "outputs": [
    {
     "name": "stdout",
     "output_type": "stream",
     "text": [
      "[] [] []\n"
     ]
    }
   ],
   "source": [
    "#prove\n",
    "#The Telemarketers are numbers start with 140\n",
    "test1 = []\n",
    "test2 = []\n",
    "test3 = []\n",
    "\n",
    "#iterating over calls\n",
    "for n in calls:\n",
    "    if n[1][:3]== '140':\n",
    "        test1.append(n[1])\n",
    "        \n",
    "#iterating over texts\n",
    "#the print statement should be three empty lists\n",
    "for n in texts:\n",
    "    if n[1][:3]== '140':\n",
    "        test2.append(n[1])\n",
    "    elif n[0][:3] =='140':\n",
    "        test3.append(n[0])\n",
    "        \n",
    "print (test1, test2, test3)        "
   ]
  },
  {
   "cell_type": "markdown",
   "metadata": {},
   "source": [
    "# TASK 4"
   ]
  },
  {
   "cell_type": "code",
   "execution_count": 3,
   "metadata": {},
   "outputs": [
    {
     "name": "stdout",
     "output_type": "stream",
     "text": [
      "These numbers could be telemarketers: \n",
      "1408371942\n",
      "1408409918\n",
      "1409994233\n",
      "1408371942\n",
      "1400481538\n",
      "1407539117\n",
      "1409668775\n",
      "1409994233\n",
      "1409994233\n",
      "1408672243\n",
      "1408672243\n",
      "1400481538\n",
      "1408409918\n",
      "1408371942\n",
      "1400481538\n",
      "1403072432\n",
      "1402316533\n",
      "1402316533\n",
      "1409994233\n",
      "1408409918\n",
      "1407539117\n",
      "1402316533\n",
      "1407539117\n",
      "1408371942\n",
      "1409421631\n",
      "1401747654\n",
      "1404787681\n",
      "1409421631\n",
      "1408672243\n",
      "1408672243\n",
      "1409668775\n",
      "1407539117\n",
      "1400481538\n",
      "1404073047\n",
      "1408371942\n",
      "1404787681\n",
      "1402316533\n",
      "1409421631\n",
      "1401747654\n",
      "1402316533\n",
      "1400481538\n",
      "1401747654\n",
      "1404368883\n",
      "1407539117\n",
      "1408672243\n",
      "1402316533\n",
      "1402316533\n",
      "1402316533\n",
      "1404787681\n",
      "1408371942\n",
      "1404073047\n",
      "1408371942\n",
      "1404073047\n",
      "1409421631\n",
      "1408371942\n",
      "1401747654\n",
      "1402316533\n",
      "1409668775\n",
      "1407539117\n",
      "1404073047\n",
      "1409421631\n",
      "1408672243\n",
      "1402316533\n",
      "1409668775\n",
      "1403072432\n",
      "1409668775\n",
      "1400481538\n",
      "1408371942\n",
      "1408409918\n",
      "1409994233\n",
      "1403072432\n",
      "1404073047\n",
      "1408371942\n",
      "1404368883\n",
      "1408672243\n",
      "1409668775\n",
      "1403072432\n",
      "1409994233\n",
      "1403579926\n",
      "1400481538\n",
      "1409421631\n",
      "1408371942\n",
      "1403072432\n",
      "1403072432\n",
      "1400481538\n",
      "1407539117\n",
      "1409994233\n",
      "1404073047\n",
      "1409994233\n",
      "1404073047\n",
      "1403579926\n",
      "1407539117\n",
      "1408672243\n",
      "1403579926\n",
      "1409421631\n",
      "1400481538\n",
      "1408371942\n",
      "1407539117\n",
      "1409421631\n",
      "1402316533\n"
     ]
    }
   ],
   "source": [
    "#The print Statement\n",
    "\n",
    "print(\"These numbers could be telemarketers: \",*Tele,sep='\\n')"
   ]
  }
 ],
 "metadata": {
  "kernelspec": {
   "display_name": "Python [conda env:Anac]",
   "language": "python",
   "name": "conda-env-Anac-py"
  },
  "language_info": {
   "codemirror_mode": {
    "name": "ipython",
    "version": 3
   },
   "file_extension": ".py",
   "mimetype": "text/x-python",
   "name": "python",
   "nbconvert_exporter": "python",
   "pygments_lexer": "ipython3",
   "version": "3.7.4"
  }
 },
 "nbformat": 4,
 "nbformat_minor": 4
}
