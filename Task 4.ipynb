{
 "cells": [
  {
   "cell_type": "code",
   "execution_count": 24,
   "metadata": {},
   "outputs": [
    {
     "data": {
      "text/plain": [
       "'\\nTASK 4:\\nThe telephone company want to identify numbers that might be doing\\ntelephone marketing. Create a set of possible telemarketers:\\nthese are numbers that make outgoing calls but never send texts,\\nreceive texts or receive incoming calls.\\n\\nPrint a message:\\n\"These numbers could be telemarketers: \"\\n<list of numbers>\\nThe list of numbers should be print out one per line in lexicographic order with no duplicates.\\n'"
      ]
     },
     "execution_count": 24,
     "metadata": {},
     "output_type": "execute_result"
    }
   ],
   "source": [
    "\"\"\"\n",
    "Read file into texts and calls.\n",
    "It's ok if you don't understand how to read files.\n",
    "\"\"\"\n",
    "import csv\n",
    "\n",
    "with open('texts.csv', 'r') as f:\n",
    "    reader = csv.reader(f)\n",
    "    texts = list(reader)\n",
    "\n",
    "with open('calls.csv', 'r') as f:\n",
    "    reader = csv.reader(f)\n",
    "    calls = list(reader)\n",
    "\n",
    "\"\"\"\n",
    "TASK 4:\n",
    "The telephone company want to identify numbers that might be doing\n",
    "telephone marketing. Create a set of possible telemarketers:\n",
    "these are numbers that make outgoing calls but never send texts,\n",
    "receive texts or receive incoming calls.\n",
    "\n",
    "Print a message:\n",
    "\"These numbers could be telemarketers: \"\n",
    "<list of numbers>\n",
    "The list of numbers should be print out one per line in lexicographic order with no duplicates.\n",
    "\"\"\"\n"
   ]
  },
  {
   "cell_type": "code",
   "execution_count": 25,
   "metadata": {},
   "outputs": [],
   "source": [
    "#Grabing all the numbers that text, recieved texts, or recieved calls in the following three lists respectively\n",
    "se_txt = []\n",
    "re_txt = []\n",
    "re_cls = [] \n",
    "\n",
    "for txt in texts:\n",
    "    se_txt.append(txt[0])\n",
    "    re_txt.append(txt[1])\n",
    "for cls in calls:\n",
    "    re_cls.append(cls[1])\n",
    "\n",
    "#sum the 3 lists together    \n",
    "not_tel = se_txt + re_txt + re_cls\n",
    "\n",
    "#compare the numbers in calls[0] to every other number\n",
    "tele = []\n",
    "for call in calls:\n",
    "    if call[0] not in not_tel:\n",
    "        tele.append(call[0])\n",
    "        \n",
    "#converting the list into a set to remove duplicates then convert it back to a list\n",
    "Tele = list(set(tele))"
   ]
  },
  {
   "cell_type": "markdown",
   "metadata": {},
   "source": [
    "# TASK 4"
   ]
  },
  {
   "cell_type": "code",
   "execution_count": 27,
   "metadata": {},
   "outputs": [
    {
     "name": "stdout",
     "output_type": "stream",
     "text": [
      "These numbers could be telemarketers: \n",
      "1400481538\n",
      "1402316533\n",
      "1407539117\n",
      "(080)31606520\n",
      "97404 30456\n",
      "97442 45192\n",
      "1404787681\n",
      "(0471)6579079\n",
      "1403579926\n",
      "(022)37572285\n",
      "1401747654\n",
      "1409994233\n",
      "1408371942\n",
      "(080)60463379\n",
      "1409421631\n",
      "1404073047\n",
      "(022)69042431\n",
      "(080)69887826\n",
      "94495 03761\n",
      "(080)20383942\n",
      "1403072432\n",
      "(080)25820765\n",
      "(080)60998034\n",
      "(0821)3257740\n",
      "1404368883\n",
      "(080)40362016\n",
      "99617 25274\n",
      "(080)64015211\n",
      "87144 55014\n",
      "(044)22020822\n",
      "(022)65548497\n",
      "(0471)2171438\n",
      "1408409918\n",
      "78291 94593\n",
      "1408672243\n",
      "(040)30429041\n",
      "74064 66270\n",
      "(080)62963633\n",
      "1409668775\n",
      "92414 69419\n",
      "(022)68535788\n",
      "97407 84573\n",
      "90351 90193\n"
     ]
    }
   ],
   "source": [
    "#The print Statement\n",
    "\n",
    "print(\"These numbers could be telemarketers: \",*Tele,sep='\\n')"
   ]
  },
  {
   "cell_type": "code",
   "execution_count": null,
   "metadata": {},
   "outputs": [],
   "source": []
  }
 ],
 "metadata": {
  "kernelspec": {
   "display_name": "Python [conda env:Anac]",
   "language": "python",
   "name": "conda-env-Anac-py"
  },
  "language_info": {
   "codemirror_mode": {
    "name": "ipython",
    "version": 3
   },
   "file_extension": ".py",
   "mimetype": "text/x-python",
   "name": "python",
   "nbconvert_exporter": "python",
   "pygments_lexer": "ipython3",
   "version": "3.7.4"
  }
 },
 "nbformat": 4,
 "nbformat_minor": 4
}
