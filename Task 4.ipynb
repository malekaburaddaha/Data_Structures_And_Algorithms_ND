{
 "cells": [
  {
   "cell_type": "code",
   "execution_count": 2,
   "metadata": {},
   "outputs": [
    {
     "data": {
      "text/plain": [
       "'\\nTASK 4:\\nThe telephone company want to identify numbers that might be doing\\ntelephone marketing. Create a set of possible telemarketers:\\nthese are numbers that make outgoing calls but never send texts,\\nreceive texts or receive incoming calls.\\n\\nPrint a message:\\n\"These numbers could be telemarketers: \"\\n<list of numbers>\\nThe list of numbers should be print out one per line in lexicographic order with no duplicates.\\n'"
      ]
     },
     "execution_count": 2,
     "metadata": {},
     "output_type": "execute_result"
    }
   ],
   "source": [
    "\"\"\"\n",
    "Read file into texts and calls.\n",
    "It's ok if you don't understand how to read files.\n",
    "\"\"\"\n",
    "import csv\n",
    "\n",
    "with open('texts.csv', 'r') as f:\n",
    "    reader = csv.reader(f)\n",
    "    texts = list(reader)\n",
    "\n",
    "with open('calls.csv', 'r') as f:\n",
    "    reader = csv.reader(f)\n",
    "    calls = list(reader)\n",
    "\n",
    "\"\"\"\n",
    "TASK 4:\n",
    "The telephone company want to identify numbers that might be doing\n",
    "telephone marketing. Create a set of possible telemarketers:\n",
    "these are numbers that make outgoing calls but never send texts,\n",
    "receive texts or receive incoming calls.\n",
    "\n",
    "Print a message:\n",
    "\"These numbers could be telemarketers: \"\n",
    "<list of numbers>\n",
    "The list of numbers should be print out one per line in lexicographic order with no duplicates.\n",
    "\"\"\"\n"
   ]
  },
  {
   "cell_type": "code",
   "execution_count": 3,
   "metadata": {},
   "outputs": [
    {
     "data": {
      "text/plain": [
       "[['78130 00821', '98453 94494', '1/9/2016 6:01', '186'],\n",
       " ['78298 91466', '(022)28952819', '1/9/2016 6:01', '2093'],\n",
       " ['97424 22395', '(022)47410783', '1/9/2016 6:03', '1975']]"
      ]
     },
     "execution_count": 3,
     "metadata": {},
     "output_type": "execute_result"
    }
   ],
   "source": [
    "calls[:3]"
   ]
  },
  {
   "cell_type": "code",
   "execution_count": 8,
   "metadata": {},
   "outputs": [
    {
     "data": {
      "text/plain": [
       "['1408371942',\n",
       " '1408409918',\n",
       " '1409994233',\n",
       " '1408371942',\n",
       " '1400481538',\n",
       " '1407539117',\n",
       " '1409668775',\n",
       " '1409994233',\n",
       " '1409994233',\n",
       " '1408672243']"
      ]
     },
     "execution_count": 8,
     "metadata": {},
     "output_type": "execute_result"
    }
   ],
   "source": [
    "Tele = []\n",
    "\n",
    "for n in calls:\n",
    "    if n[0][:3]== '140':\n",
    "        Tele.append(n[0])\n",
    "        \n",
    "Tele[:10]        \n",
    "    "
   ]
  },
  {
   "cell_type": "markdown",
   "metadata": {},
   "source": [
    "# Based on the work done in the previous tasks, I found out that the numbers in Tele list made only phone calls and did not text/recieve texts or receive calls"
   ]
  },
  {
   "cell_type": "code",
   "execution_count": 11,
   "metadata": {},
   "outputs": [
    {
     "name": "stdout",
     "output_type": "stream",
     "text": [
      "[] [] []\n"
     ]
    }
   ],
   "source": [
    "#prove\n",
    "#The Telemarketers are numbers start with 140\n",
    "test1 = []\n",
    "test2 = []\n",
    "test3 = []\n",
    "\n",
    "#iterating over calls\n",
    "for n in calls:\n",
    "    if n[1][:3]== '140':\n",
    "        test1.append(n[1])\n",
    "        \n",
    "#iterating over texts\n",
    "#the print statement should be three empty lists\n",
    "for n in texts:\n",
    "    if n[1][:3]== '140':\n",
    "        test2.append(n[1])\n",
    "    elif n[0][:3] =='140':\n",
    "        test3.append(n[0])\n",
    "        \n",
    "print (test1, test2, test3)        "
   ]
  },
  {
   "cell_type": "code",
   "execution_count": 13,
   "metadata": {},
   "outputs": [
    {
     "name": "stdout",
     "output_type": "stream",
     "text": [
      "These numbers could be telemarketers:  ['1408371942', '1408409918', '1409994233', '1408371942', '1400481538', '1407539117', '1409668775', '1409994233', '1409994233', '1408672243', '1408672243', '1400481538', '1408409918', '1408371942', '1400481538', '1403072432', '1402316533', '1402316533', '1409994233', '1408409918', '1407539117', '1402316533', '1407539117', '1408371942', '1409421631', '1401747654', '1404787681', '1409421631', '1408672243', '1408672243', '1409668775', '1407539117', '1400481538', '1404073047', '1408371942', '1404787681', '1402316533', '1409421631', '1401747654', '1402316533', '1400481538', '1401747654', '1404368883', '1407539117', '1408672243', '1402316533', '1402316533', '1402316533', '1404787681', '1408371942', '1404073047', '1408371942', '1404073047', '1409421631', '1408371942', '1401747654', '1402316533', '1409668775', '1407539117', '1404073047', '1409421631', '1408672243', '1402316533', '1409668775', '1403072432', '1409668775', '1400481538', '1408371942', '1408409918', '1409994233', '1403072432', '1404073047', '1408371942', '1404368883', '1408672243', '1409668775', '1403072432', '1409994233', '1403579926', '1400481538', '1409421631', '1408371942', '1403072432', '1403072432', '1400481538', '1407539117', '1409994233', '1404073047', '1409994233', '1404073047', '1403579926', '1407539117', '1408672243', '1403579926', '1409421631', '1400481538', '1408371942', '1407539117', '1409421631', '1402316533']\n"
     ]
    }
   ],
   "source": [
    "#The print Statement\n",
    "\n",
    "print(\"These numbers could be telemarketers: \",Tele)"
   ]
  },
  {
   "cell_type": "code",
   "execution_count": null,
   "metadata": {},
   "outputs": [],
   "source": []
  }
 ],
 "metadata": {
  "kernelspec": {
   "display_name": "Python [conda env:Anac]",
   "language": "python",
   "name": "conda-env-Anac-py"
  },
  "language_info": {
   "codemirror_mode": {
    "name": "ipython",
    "version": 3
   },
   "file_extension": ".py",
   "mimetype": "text/x-python",
   "name": "python",
   "nbconvert_exporter": "python",
   "pygments_lexer": "ipython3",
   "version": "3.7.4"
  }
 },
 "nbformat": 4,
 "nbformat_minor": 4
}
