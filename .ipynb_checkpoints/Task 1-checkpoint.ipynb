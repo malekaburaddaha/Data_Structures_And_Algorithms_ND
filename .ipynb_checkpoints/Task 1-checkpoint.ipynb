{
 "cells": [
  {
   "cell_type": "code",
   "execution_count": 1,
   "metadata": {},
   "outputs": [
    {
     "data": {
      "text/plain": [
       "'\\nTASK 1:\\nHow many different telephone numbers are there in the records? \\nPrint a message:\\n\"There are <count> different telephone numbers in the records.\"\\n'"
      ]
     },
     "execution_count": 1,
     "metadata": {},
     "output_type": "execute_result"
    }
   ],
   "source": [
    "\"\"\"\n",
    "Read file into texts and calls.\n",
    "It's ok if you don't understand how to read files.\n",
    "\"\"\"\n",
    "import csv\n",
    "with open('texts.csv', 'r') as f:\n",
    "    reader = csv.reader(f)\n",
    "    texts = list(reader)\n",
    "\n",
    "with open('calls.csv', 'r') as f:\n",
    "    reader = csv.reader(f)\n",
    "    calls = list(reader)\n",
    "\n",
    "\n",
    "\"\"\"\n",
    "TASK 1:\n",
    "How many different telephone numbers are there in the records? \n",
    "Print a message:\n",
    "\"There are <count> different telephone numbers in the records.\"\n",
    "\"\"\"\n"
   ]
  },
  {
   "cell_type": "code",
   "execution_count": 118,
   "metadata": {},
   "outputs": [
    {
     "name": "stdout",
     "output_type": "stream",
     "text": [
      "5213\n",
      "9072\n"
     ]
    }
   ],
   "source": [
    "print(len(calls))\n",
    "print(len(texts))"
   ]
  },
  {
   "cell_type": "code",
   "execution_count": 109,
   "metadata": {},
   "outputs": [
    {
     "name": "stdout",
     "output_type": "stream",
     "text": [
      "14284\n"
     ]
    },
    {
     "data": {
      "text/plain": [
       "[['(011)21017178', '83015 22251', '15-09-2016 14:19:01', '156'],\n",
       " ['(011)21017178', '83015 22251', '27-09-2016 11:24:59', '215'],\n",
       " ['(011)21017178', '83015 22251', '28-09-2016 07:43:26', '771'],\n",
       " ['(011)21017178', '83015 22251', '30-09-2016 07:53:20', '316'],\n",
       " ['(011)68486606', '(080)32255824', '1/9/2016 12:19', '1686'],\n",
       " ['(011)68486606', '(080)32255824', '11/9/2016 11:42', '418'],\n",
       " ['(011)68486606', '(080)32255824', '11/9/2016 13:05', '9'],\n",
       " ['(011)68486606', '(080)32255824', '20-09-2016 21:08:58', '26'],\n",
       " ['(011)68486606', '(080)32255824', '22-09-2016 15:44:09', '184'],\n",
       " ['(011)68486606', '(080)32255824', '7/9/2016 12:08', '1787']]"
      ]
     },
     "execution_count": 109,
     "metadata": {},
     "output_type": "execute_result"
    }
   ],
   "source": [
    "import numpy as np \n",
    "\n",
    "#Grab and sort the unique values\n",
    "unique_text = list(np.unique(texts+calls))\n",
    "print(len(unique_text))\n",
    "unique_text[:10]"
   ]
  },
  {
   "cell_type": "code",
   "execution_count": 110,
   "metadata": {},
   "outputs": [
    {
     "data": {
      "text/html": [
       "<div>\n",
       "<style scoped>\n",
       "    .dataframe tbody tr th:only-of-type {\n",
       "        vertical-align: middle;\n",
       "    }\n",
       "\n",
       "    .dataframe tbody tr th {\n",
       "        vertical-align: top;\n",
       "    }\n",
       "\n",
       "    .dataframe thead th {\n",
       "        text-align: right;\n",
       "    }\n",
       "</style>\n",
       "<table border=\"1\" class=\"dataframe\">\n",
       "  <thead>\n",
       "    <tr style=\"text-align: right;\">\n",
       "      <th></th>\n",
       "      <th>0</th>\n",
       "      <th>1</th>\n",
       "      <th>2</th>\n",
       "      <th>3</th>\n",
       "    </tr>\n",
       "  </thead>\n",
       "  <tbody>\n",
       "    <tr>\n",
       "      <th>0</th>\n",
       "      <td>(011)21017178</td>\n",
       "      <td>83015 22251</td>\n",
       "      <td>15-09-2016 14:19:01</td>\n",
       "      <td>156</td>\n",
       "    </tr>\n",
       "    <tr>\n",
       "      <th>1</th>\n",
       "      <td>(011)21017178</td>\n",
       "      <td>83015 22251</td>\n",
       "      <td>27-09-2016 11:24:59</td>\n",
       "      <td>215</td>\n",
       "    </tr>\n",
       "    <tr>\n",
       "      <th>2</th>\n",
       "      <td>(011)21017178</td>\n",
       "      <td>83015 22251</td>\n",
       "      <td>28-09-2016 07:43:26</td>\n",
       "      <td>771</td>\n",
       "    </tr>\n",
       "    <tr>\n",
       "      <th>3</th>\n",
       "      <td>(011)21017178</td>\n",
       "      <td>83015 22251</td>\n",
       "      <td>30-09-2016 07:53:20</td>\n",
       "      <td>316</td>\n",
       "    </tr>\n",
       "    <tr>\n",
       "      <th>4</th>\n",
       "      <td>(011)68486606</td>\n",
       "      <td>(080)32255824</td>\n",
       "      <td>1/9/2016 12:19</td>\n",
       "      <td>1686</td>\n",
       "    </tr>\n",
       "    <tr>\n",
       "      <th>5</th>\n",
       "      <td>(011)68486606</td>\n",
       "      <td>(080)32255824</td>\n",
       "      <td>11/9/2016 11:42</td>\n",
       "      <td>418</td>\n",
       "    </tr>\n",
       "    <tr>\n",
       "      <th>6</th>\n",
       "      <td>(011)68486606</td>\n",
       "      <td>(080)32255824</td>\n",
       "      <td>11/9/2016 13:05</td>\n",
       "      <td>9</td>\n",
       "    </tr>\n",
       "    <tr>\n",
       "      <th>7</th>\n",
       "      <td>(011)68486606</td>\n",
       "      <td>(080)32255824</td>\n",
       "      <td>20-09-2016 21:08:58</td>\n",
       "      <td>26</td>\n",
       "    </tr>\n",
       "    <tr>\n",
       "      <th>8</th>\n",
       "      <td>(011)68486606</td>\n",
       "      <td>(080)32255824</td>\n",
       "      <td>22-09-2016 15:44:09</td>\n",
       "      <td>184</td>\n",
       "    </tr>\n",
       "    <tr>\n",
       "      <th>9</th>\n",
       "      <td>(011)68486606</td>\n",
       "      <td>(080)32255824</td>\n",
       "      <td>7/9/2016 12:08</td>\n",
       "      <td>1787</td>\n",
       "    </tr>\n",
       "  </tbody>\n",
       "</table>\n",
       "</div>"
      ],
      "text/plain": [
       "               0              1                    2     3\n",
       "0  (011)21017178    83015 22251  15-09-2016 14:19:01   156\n",
       "1  (011)21017178    83015 22251  27-09-2016 11:24:59   215\n",
       "2  (011)21017178    83015 22251  28-09-2016 07:43:26   771\n",
       "3  (011)21017178    83015 22251  30-09-2016 07:53:20   316\n",
       "4  (011)68486606  (080)32255824       1/9/2016 12:19  1686\n",
       "5  (011)68486606  (080)32255824      11/9/2016 11:42   418\n",
       "6  (011)68486606  (080)32255824      11/9/2016 13:05     9\n",
       "7  (011)68486606  (080)32255824  20-09-2016 21:08:58    26\n",
       "8  (011)68486606  (080)32255824  22-09-2016 15:44:09   184\n",
       "9  (011)68486606  (080)32255824       7/9/2016 12:08  1787"
      ]
     },
     "execution_count": 110,
     "metadata": {},
     "output_type": "execute_result"
    }
   ],
   "source": [
    "#converting the list into pandas dataframe\n",
    "import pandas as pd\n",
    "\n",
    "unique_df =pd.DataFrame(unique_text) \n",
    "unique_df[:10]"
   ]
  },
  {
   "cell_type": "code",
   "execution_count": 119,
   "metadata": {},
   "outputs": [
    {
     "data": {
      "text/html": [
       "<div>\n",
       "<style scoped>\n",
       "    .dataframe tbody tr th:only-of-type {\n",
       "        vertical-align: middle;\n",
       "    }\n",
       "\n",
       "    .dataframe tbody tr th {\n",
       "        vertical-align: top;\n",
       "    }\n",
       "\n",
       "    .dataframe thead th {\n",
       "        text-align: right;\n",
       "    }\n",
       "</style>\n",
       "<table border=\"1\" class=\"dataframe\">\n",
       "  <thead>\n",
       "    <tr style=\"text-align: right;\">\n",
       "      <th></th>\n",
       "      <th>0</th>\n",
       "      <th>1</th>\n",
       "      <th>2</th>\n",
       "    </tr>\n",
       "  </thead>\n",
       "  <tbody>\n",
       "    <tr>\n",
       "      <th>0</th>\n",
       "      <td>(011)21017178</td>\n",
       "      <td>83015 22251</td>\n",
       "      <td>4</td>\n",
       "    </tr>\n",
       "    <tr>\n",
       "      <th>1</th>\n",
       "      <td>(011)68486606</td>\n",
       "      <td>(080)32255824</td>\n",
       "      <td>6</td>\n",
       "    </tr>\n",
       "    <tr>\n",
       "      <th>2</th>\n",
       "      <td>(022)21884607</td>\n",
       "      <td>90083 59148</td>\n",
       "      <td>15</td>\n",
       "    </tr>\n",
       "    <tr>\n",
       "      <th>3</th>\n",
       "      <td>(022)22288051</td>\n",
       "      <td>(080)62164823</td>\n",
       "      <td>9</td>\n",
       "    </tr>\n",
       "    <tr>\n",
       "      <th>4</th>\n",
       "      <td>(022)28765220</td>\n",
       "      <td>98444 16192</td>\n",
       "      <td>5</td>\n",
       "    </tr>\n",
       "  </tbody>\n",
       "</table>\n",
       "</div>"
      ],
      "text/plain": [
       "               0              1   2\n",
       "0  (011)21017178    83015 22251   4\n",
       "1  (011)68486606  (080)32255824   6\n",
       "2  (022)21884607    90083 59148  15\n",
       "3  (022)22288051  (080)62164823   9\n",
       "4  (022)28765220    98444 16192   5"
      ]
     },
     "execution_count": 119,
     "metadata": {},
     "output_type": "execute_result"
    }
   ],
   "source": [
    "#group by the first two columns\n",
    "counts = unique_df.groupby([0, 1]).size().reset_index(name=(2))\n",
    "counts[:5]"
   ]
  },
  {
   "cell_type": "code",
   "execution_count": 112,
   "metadata": {},
   "outputs": [
    {
     "data": {
      "text/plain": [
       "897"
      ]
     },
     "execution_count": 112,
     "metadata": {},
     "output_type": "execute_result"
    }
   ],
   "source": [
    "#the length of the first column with duplicates\n",
    "len(counts[0])"
   ]
  },
  {
   "cell_type": "code",
   "execution_count": 120,
   "metadata": {},
   "outputs": [
    {
     "data": {
      "text/html": [
       "<div>\n",
       "<style scoped>\n",
       "    .dataframe tbody tr th:only-of-type {\n",
       "        vertical-align: middle;\n",
       "    }\n",
       "\n",
       "    .dataframe tbody tr th {\n",
       "        vertical-align: top;\n",
       "    }\n",
       "\n",
       "    .dataframe thead th {\n",
       "        text-align: right;\n",
       "    }\n",
       "</style>\n",
       "<table border=\"1\" class=\"dataframe\">\n",
       "  <thead>\n",
       "    <tr style=\"text-align: right;\">\n",
       "      <th></th>\n",
       "      <th>0</th>\n",
       "      <th>1</th>\n",
       "      <th>2</th>\n",
       "    </tr>\n",
       "  </thead>\n",
       "  <tbody>\n",
       "    <tr>\n",
       "      <th>0</th>\n",
       "      <td>(011)21017178</td>\n",
       "      <td>83015 22251</td>\n",
       "      <td>4</td>\n",
       "    </tr>\n",
       "    <tr>\n",
       "      <th>1</th>\n",
       "      <td>(011)68486606</td>\n",
       "      <td>(080)32255824</td>\n",
       "      <td>6</td>\n",
       "    </tr>\n",
       "    <tr>\n",
       "      <th>2</th>\n",
       "      <td>(022)21884607</td>\n",
       "      <td>90083 59148</td>\n",
       "      <td>15</td>\n",
       "    </tr>\n",
       "    <tr>\n",
       "      <th>3</th>\n",
       "      <td>(022)22288051</td>\n",
       "      <td>(080)62164823</td>\n",
       "      <td>9</td>\n",
       "    </tr>\n",
       "    <tr>\n",
       "      <th>4</th>\n",
       "      <td>(022)28765220</td>\n",
       "      <td>98444 16192</td>\n",
       "      <td>5</td>\n",
       "    </tr>\n",
       "    <tr>\n",
       "      <th>5</th>\n",
       "      <td>(022)28952819</td>\n",
       "      <td>(080)25863765</td>\n",
       "      <td>8</td>\n",
       "    </tr>\n",
       "    <tr>\n",
       "      <th>7</th>\n",
       "      <td>(022)29303640</td>\n",
       "      <td>97424 22395</td>\n",
       "      <td>1</td>\n",
       "    </tr>\n",
       "    <tr>\n",
       "      <th>8</th>\n",
       "      <td>(022)30044349</td>\n",
       "      <td>97385 29751</td>\n",
       "      <td>13</td>\n",
       "    </tr>\n",
       "    <tr>\n",
       "      <th>9</th>\n",
       "      <td>(022)32517986</td>\n",
       "      <td>(080)21129907</td>\n",
       "      <td>3</td>\n",
       "    </tr>\n",
       "    <tr>\n",
       "      <th>10</th>\n",
       "      <td>(022)34715405</td>\n",
       "      <td>74298 18325</td>\n",
       "      <td>9</td>\n",
       "    </tr>\n",
       "  </tbody>\n",
       "</table>\n",
       "</div>"
      ],
      "text/plain": [
       "                0              1   2\n",
       "0   (011)21017178    83015 22251   4\n",
       "1   (011)68486606  (080)32255824   6\n",
       "2   (022)21884607    90083 59148  15\n",
       "3   (022)22288051  (080)62164823   9\n",
       "4   (022)28765220    98444 16192   5\n",
       "5   (022)28952819  (080)25863765   8\n",
       "7   (022)29303640    97424 22395   1\n",
       "8   (022)30044349    97385 29751  13\n",
       "9   (022)32517986  (080)21129907   3\n",
       "10  (022)34715405    74298 18325   9"
      ]
     },
     "execution_count": 120,
     "metadata": {},
     "output_type": "execute_result"
    }
   ],
   "source": [
    "#droping the duplicates from the first column\n",
    "duplicates_1 = counts.drop_duplicates(subset=[0], keep ='first')\n",
    "duplicates[:10]"
   ]
  },
  {
   "cell_type": "code",
   "execution_count": 121,
   "metadata": {},
   "outputs": [
    {
     "data": {
      "text/plain": [
       "517"
      ]
     },
     "execution_count": 121,
     "metadata": {},
     "output_type": "execute_result"
    }
   ],
   "source": [
    "#the length of the first column without duplicates\n",
    "len(duplicates[0])"
   ]
  },
  {
   "cell_type": "code",
   "execution_count": 122,
   "metadata": {},
   "outputs": [
    {
     "data": {
      "text/plain": [
       "897"
      ]
     },
     "execution_count": 122,
     "metadata": {},
     "output_type": "execute_result"
    }
   ],
   "source": [
    "#the length of the second column with duplicates\n",
    "len(counts[1])"
   ]
  },
  {
   "cell_type": "code",
   "execution_count": 116,
   "metadata": {},
   "outputs": [
    {
     "data": {
      "text/html": [
       "<div>\n",
       "<style scoped>\n",
       "    .dataframe tbody tr th:only-of-type {\n",
       "        vertical-align: middle;\n",
       "    }\n",
       "\n",
       "    .dataframe tbody tr th {\n",
       "        vertical-align: top;\n",
       "    }\n",
       "\n",
       "    .dataframe thead th {\n",
       "        text-align: right;\n",
       "    }\n",
       "</style>\n",
       "<table border=\"1\" class=\"dataframe\">\n",
       "  <thead>\n",
       "    <tr style=\"text-align: right;\">\n",
       "      <th></th>\n",
       "      <th>0</th>\n",
       "      <th>1</th>\n",
       "      <th>2</th>\n",
       "    </tr>\n",
       "  </thead>\n",
       "  <tbody>\n",
       "    <tr>\n",
       "      <th>0</th>\n",
       "      <td>(011)21017178</td>\n",
       "      <td>83015 22251</td>\n",
       "      <td>4</td>\n",
       "    </tr>\n",
       "    <tr>\n",
       "      <th>1</th>\n",
       "      <td>(011)68486606</td>\n",
       "      <td>(080)32255824</td>\n",
       "      <td>6</td>\n",
       "    </tr>\n",
       "    <tr>\n",
       "      <th>2</th>\n",
       "      <td>(022)21884607</td>\n",
       "      <td>90083 59148</td>\n",
       "      <td>15</td>\n",
       "    </tr>\n",
       "    <tr>\n",
       "      <th>3</th>\n",
       "      <td>(022)22288051</td>\n",
       "      <td>(080)62164823</td>\n",
       "      <td>9</td>\n",
       "    </tr>\n",
       "    <tr>\n",
       "      <th>4</th>\n",
       "      <td>(022)28765220</td>\n",
       "      <td>98444 16192</td>\n",
       "      <td>5</td>\n",
       "    </tr>\n",
       "    <tr>\n",
       "      <th>5</th>\n",
       "      <td>(022)28952819</td>\n",
       "      <td>(080)25863765</td>\n",
       "      <td>8</td>\n",
       "    </tr>\n",
       "    <tr>\n",
       "      <th>6</th>\n",
       "      <td>(022)28952819</td>\n",
       "      <td>78298 91466</td>\n",
       "      <td>3</td>\n",
       "    </tr>\n",
       "    <tr>\n",
       "      <th>7</th>\n",
       "      <td>(022)29303640</td>\n",
       "      <td>97424 22395</td>\n",
       "      <td>1</td>\n",
       "    </tr>\n",
       "    <tr>\n",
       "      <th>8</th>\n",
       "      <td>(022)30044349</td>\n",
       "      <td>97385 29751</td>\n",
       "      <td>13</td>\n",
       "    </tr>\n",
       "    <tr>\n",
       "      <th>9</th>\n",
       "      <td>(022)32517986</td>\n",
       "      <td>(080)21129907</td>\n",
       "      <td>3</td>\n",
       "    </tr>\n",
       "  </tbody>\n",
       "</table>\n",
       "</div>"
      ],
      "text/plain": [
       "               0              1   2\n",
       "0  (011)21017178    83015 22251   4\n",
       "1  (011)68486606  (080)32255824   6\n",
       "2  (022)21884607    90083 59148  15\n",
       "3  (022)22288051  (080)62164823   9\n",
       "4  (022)28765220    98444 16192   5\n",
       "5  (022)28952819  (080)25863765   8\n",
       "6  (022)28952819    78298 91466   3\n",
       "7  (022)29303640    97424 22395   1\n",
       "8  (022)30044349    97385 29751  13\n",
       "9  (022)32517986  (080)21129907   3"
      ]
     },
     "execution_count": 116,
     "metadata": {},
     "output_type": "execute_result"
    }
   ],
   "source": [
    "#droping the duplicates from the second column\n",
    "duplicates_2 = counts.drop_duplicates(subset=[1], keep= 'first')\n",
    "duplicates_2[:10]"
   ]
  },
  {
   "cell_type": "code",
   "execution_count": 123,
   "metadata": {},
   "outputs": [
    {
     "data": {
      "text/plain": [
       "522"
      ]
     },
     "execution_count": 123,
     "metadata": {},
     "output_type": "execute_result"
    }
   ],
   "source": [
    "#the length of the second column without duplicates\n",
    "len(duplicates_2[1])"
   ]
  },
  {
   "cell_type": "code",
   "execution_count": 124,
   "metadata": {},
   "outputs": [
    {
     "name": "stdout",
     "output_type": "stream",
     "text": [
      "There are 1039 different telephone numbers in the records\n"
     ]
    }
   ],
   "source": [
    "#The number of different telephone numbers in records \n",
    "print ('There are', 517+522, 'different telephone numbers in the records')"
   ]
  },
  {
   "cell_type": "code",
   "execution_count": null,
   "metadata": {},
   "outputs": [],
   "source": []
  }
 ],
 "metadata": {
  "kernelspec": {
   "display_name": "Python 3",
   "language": "python",
   "name": "python3"
  },
  "language_info": {
   "codemirror_mode": {
    "name": "ipython",
    "version": 3
   },
   "file_extension": ".py",
   "mimetype": "text/x-python",
   "name": "python",
   "nbconvert_exporter": "python",
   "pygments_lexer": "ipython3",
   "version": "3.7.7"
  }
 },
 "nbformat": 4,
 "nbformat_minor": 4
}
