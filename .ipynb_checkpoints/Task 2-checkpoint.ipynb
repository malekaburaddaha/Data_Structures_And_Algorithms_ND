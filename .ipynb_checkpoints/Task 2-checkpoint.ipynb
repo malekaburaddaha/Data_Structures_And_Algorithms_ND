{
 "cells": [
  {
   "cell_type": "code",
   "execution_count": 1,
   "metadata": {},
   "outputs": [
    {
     "data": {
      "text/plain": [
       "'\\nTASK 2: Which telephone number spent the longest time on the phone\\nduring the period? Don\\'t forget that time spent answering a call is\\nalso time spent on the phone.\\nPrint a message:\\n\"<telephone number> spent the longest time, <total time> seconds, on the phone during \\nSeptember 2016.\".\\n'"
      ]
     },
     "execution_count": 1,
     "metadata": {},
     "output_type": "execute_result"
    }
   ],
   "source": [
    "\"\"\"\n",
    "Read file into texts and calls.\n",
    "It's ok if you don't understand how to read files\n",
    "\"\"\"\n",
    "import csv\n",
    "with open('texts.csv', 'r') as f:\n",
    "    reader = csv.reader(f)\n",
    "    texts = list(reader)\n",
    "\n",
    "with open('calls.csv', 'r') as f:\n",
    "    reader = csv.reader(f)\n",
    "    calls = list(reader)\n",
    "\n",
    "\"\"\"\n",
    "TASK 2: Which telephone number spent the longest time on the phone\n",
    "during the period? Don't forget that time spent answering a call is\n",
    "also time spent on the phone.\n",
    "Print a message:\n",
    "\"<telephone number> spent the longest time, <total time> seconds, on the phone during \n",
    "September 2016.\".\n",
    "\"\"\"\n"
   ]
  },
  {
   "cell_type": "code",
   "execution_count": 2,
   "metadata": {},
   "outputs": [
    {
     "data": {
      "text/plain": [
       "[['78130 00821', '98453 94494', '1/9/2016 6:01', '186'],\n",
       " ['78298 91466', '(022)28952819', '1/9/2016 6:01', '2093'],\n",
       " ['97424 22395', '(022)47410783', '1/9/2016 6:03', '1975'],\n",
       " ['93427 40118', '(080)33118033', '1/9/2016 6:11', '1156'],\n",
       " ['90087 42537', '(080)35121497', '1/9/2016 6:17', '573']]"
      ]
     },
     "execution_count": 2,
     "metadata": {},
     "output_type": "execute_result"
    }
   ],
   "source": [
    "calls[:5]"
   ]
  },
  {
   "cell_type": "code",
   "execution_count": 4,
   "metadata": {},
   "outputs": [
    {
     "data": {
      "text/html": [
       "<div>\n",
       "<style scoped>\n",
       "    .dataframe tbody tr th:only-of-type {\n",
       "        vertical-align: middle;\n",
       "    }\n",
       "\n",
       "    .dataframe tbody tr th {\n",
       "        vertical-align: top;\n",
       "    }\n",
       "\n",
       "    .dataframe thead th {\n",
       "        text-align: right;\n",
       "    }\n",
       "</style>\n",
       "<table border=\"1\" class=\"dataframe\">\n",
       "  <thead>\n",
       "    <tr style=\"text-align: right;\">\n",
       "      <th></th>\n",
       "      <th>0</th>\n",
       "      <th>1</th>\n",
       "      <th>2</th>\n",
       "      <th>3</th>\n",
       "    </tr>\n",
       "  </thead>\n",
       "  <tbody>\n",
       "    <tr>\n",
       "      <th>0</th>\n",
       "      <td>78130 00821</td>\n",
       "      <td>98453 94494</td>\n",
       "      <td>1/9/2016 6:01</td>\n",
       "      <td>186</td>\n",
       "    </tr>\n",
       "    <tr>\n",
       "      <th>1</th>\n",
       "      <td>78298 91466</td>\n",
       "      <td>(022)28952819</td>\n",
       "      <td>1/9/2016 6:01</td>\n",
       "      <td>2093</td>\n",
       "    </tr>\n",
       "    <tr>\n",
       "      <th>2</th>\n",
       "      <td>97424 22395</td>\n",
       "      <td>(022)47410783</td>\n",
       "      <td>1/9/2016 6:03</td>\n",
       "      <td>1975</td>\n",
       "    </tr>\n",
       "  </tbody>\n",
       "</table>\n",
       "</div>"
      ],
      "text/plain": [
       "             0              1              2     3\n",
       "0  78130 00821    98453 94494  1/9/2016 6:01   186\n",
       "1  78298 91466  (022)28952819  1/9/2016 6:01  2093\n",
       "2  97424 22395  (022)47410783  1/9/2016 6:03  1975"
      ]
     },
     "execution_count": 4,
     "metadata": {},
     "output_type": "execute_result"
    }
   ],
   "source": [
    "import pandas as pd\n",
    "\n",
    "calls_df = pd.DataFrame(calls) \n",
    "calls_df[:3]"
   ]
  },
  {
   "cell_type": "code",
   "execution_count": 23,
   "metadata": {},
   "outputs": [
    {
     "data": {
      "text/html": [
       "<div>\n",
       "<style scoped>\n",
       "    .dataframe tbody tr th:only-of-type {\n",
       "        vertical-align: middle;\n",
       "    }\n",
       "\n",
       "    .dataframe tbody tr th {\n",
       "        vertical-align: top;\n",
       "    }\n",
       "\n",
       "    .dataframe thead th {\n",
       "        text-align: right;\n",
       "    }\n",
       "</style>\n",
       "<table border=\"1\" class=\"dataframe\">\n",
       "  <thead>\n",
       "    <tr style=\"text-align: right;\">\n",
       "      <th></th>\n",
       "      <th>0</th>\n",
       "      <th>1</th>\n",
       "      <th>2</th>\n",
       "      <th>3</th>\n",
       "    </tr>\n",
       "  </thead>\n",
       "  <tbody>\n",
       "    <tr>\n",
       "      <th>1963</th>\n",
       "      <td>90085 20915</td>\n",
       "      <td>99002 80226</td>\n",
       "      <td>12/9/2016 11:29</td>\n",
       "      <td>999</td>\n",
       "    </tr>\n",
       "    <tr>\n",
       "      <th>4243</th>\n",
       "      <td>92425 27794</td>\n",
       "      <td>93432 65750</td>\n",
       "      <td>25-09-2016 18:27:06</td>\n",
       "      <td>998</td>\n",
       "    </tr>\n",
       "    <tr>\n",
       "      <th>1510</th>\n",
       "      <td>93430 54160</td>\n",
       "      <td>(04344)615310</td>\n",
       "      <td>9/9/2016 18:52</td>\n",
       "      <td>998</td>\n",
       "    </tr>\n",
       "    <tr>\n",
       "      <th>2895</th>\n",
       "      <td>70121 27677</td>\n",
       "      <td>78295 48262</td>\n",
       "      <td>17-09-2016 17:01:44</td>\n",
       "      <td>997</td>\n",
       "    </tr>\n",
       "    <tr>\n",
       "      <th>2700</th>\n",
       "      <td>89071 31755</td>\n",
       "      <td>78290 99865</td>\n",
       "      <td>16-09-2016 12:53:18</td>\n",
       "      <td>996</td>\n",
       "    </tr>\n",
       "    <tr>\n",
       "      <th>...</th>\n",
       "      <td>...</td>\n",
       "      <td>...</td>\n",
       "      <td>...</td>\n",
       "      <td>...</td>\n",
       "    </tr>\n",
       "    <tr>\n",
       "      <th>721</th>\n",
       "      <td>97419 41164</td>\n",
       "      <td>94487 29969</td>\n",
       "      <td>5/9/2016 7:40</td>\n",
       "      <td>10</td>\n",
       "    </tr>\n",
       "    <tr>\n",
       "      <th>4938</th>\n",
       "      <td>1403579926</td>\n",
       "      <td>97381 67759</td>\n",
       "      <td>29-09-2016 15:35:39</td>\n",
       "      <td>10</td>\n",
       "    </tr>\n",
       "    <tr>\n",
       "      <th>1607</th>\n",
       "      <td>1408672243</td>\n",
       "      <td>81522 26166</td>\n",
       "      <td>10/9/2016 10:17</td>\n",
       "      <td>10</td>\n",
       "    </tr>\n",
       "    <tr>\n",
       "      <th>2954</th>\n",
       "      <td>92421 64236</td>\n",
       "      <td>(080)35538852</td>\n",
       "      <td>17-09-2016 23:46:35</td>\n",
       "      <td>10</td>\n",
       "    </tr>\n",
       "    <tr>\n",
       "      <th>4965</th>\n",
       "      <td>1409421631</td>\n",
       "      <td>90351 35947</td>\n",
       "      <td>29-09-2016 18:08:47</td>\n",
       "      <td>10</td>\n",
       "    </tr>\n",
       "  </tbody>\n",
       "</table>\n",
       "<p>5213 rows × 4 columns</p>\n",
       "</div>"
      ],
      "text/plain": [
       "                0              1                    2    3\n",
       "1963  90085 20915    99002 80226      12/9/2016 11:29  999\n",
       "4243  92425 27794    93432 65750  25-09-2016 18:27:06  998\n",
       "1510  93430 54160  (04344)615310       9/9/2016 18:52  998\n",
       "2895  70121 27677    78295 48262  17-09-2016 17:01:44  997\n",
       "2700  89071 31755    78290 99865  16-09-2016 12:53:18  996\n",
       "...           ...            ...                  ...  ...\n",
       "721   97419 41164    94487 29969        5/9/2016 7:40   10\n",
       "4938   1403579926    97381 67759  29-09-2016 15:35:39   10\n",
       "1607   1408672243    81522 26166      10/9/2016 10:17   10\n",
       "2954  92421 64236  (080)35538852  17-09-2016 23:46:35   10\n",
       "4965   1409421631    90351 35947  29-09-2016 18:08:47   10\n",
       "\n",
       "[5213 rows x 4 columns]"
      ]
     },
     "execution_count": 23,
     "metadata": {},
     "output_type": "execute_result"
    }
   ],
   "source": [
    "asc_df = calls_df.sort_values([3], ascending=False) \n",
    "asc_df"
   ]
  },
  {
   "cell_type": "code",
   "execution_count": 25,
   "metadata": {},
   "outputs": [
    {
     "name": "stdout",
     "output_type": "stream",
     "text": [
      "90085 20915 spent the longest time, 999 seconds, on the phone during September 2016.\n"
     ]
    }
   ],
   "source": [
    "#Print the desired output message \n",
    "\n",
    "print('90085 20915 spent the longest time, 999 seconds, on the phone during September 2016.')"
   ]
  },
  {
   "cell_type": "code",
   "execution_count": null,
   "metadata": {},
   "outputs": [],
   "source": []
  }
 ],
 "metadata": {
  "kernelspec": {
   "display_name": "Python 3",
   "language": "python",
   "name": "python3"
  },
  "language_info": {
   "codemirror_mode": {
    "name": "ipython",
    "version": 3
   },
   "file_extension": ".py",
   "mimetype": "text/x-python",
   "name": "python",
   "nbconvert_exporter": "python",
   "pygments_lexer": "ipython3",
   "version": "3.7.7"
  }
 },
 "nbformat": 4,
 "nbformat_minor": 4
}
