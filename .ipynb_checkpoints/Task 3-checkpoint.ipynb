{
 "cells": [
  {
   "cell_type": "code",
   "execution_count": 1,
   "metadata": {},
   "outputs": [
    {
     "data": {
      "text/plain": [
       "'\\nTASK 3:\\n(080) is the area code for fixed line telephones in Bangalore.\\nFixed line numbers include parentheses, so Bangalore numbers\\nhave the form (080)xxxxxxx.)\\n\\nPart A: Find all of the area codes and mobile prefixes called by people\\nin Bangalore.\\n - Fixed lines start with an area code enclosed in brackets. The area\\n   codes vary in length but always begin with 0.\\n - Mobile numbers have no parentheses, but have a space in the middle\\n   of the number to help readability. The prefix of a mobile number\\n   is its first four digits, and they always start with 7, 8 or 9.\\n - Telemarketers\\' numbers have no parentheses or space, but they start\\n   with the area code 140.\\n\\nPrint the answer as part of a message:\\n\"The numbers called by people in Bangalore have codes:\"\\n <list of codes>\\nThe list of codes should be print out one per line in lexicographic order with no duplicates.\\n\\nPart B: What percentage of calls from fixed lines in Bangalore are made\\nto fixed lines also in Bangalore? In other words, of all the calls made\\nfrom a number starting with \"(080)\", what percentage of these calls\\nwere made to a number also starting with \"(080)\"?\\n\\nPrint the answer as a part of a message::\\n\"<percentage> percent of calls from fixed lines in Bangalore are calls\\nto other fixed lines in Bangalore.\"\\nThe percentage should have 2 decimal digits\\n'"
      ]
     },
     "execution_count": 1,
     "metadata": {},
     "output_type": "execute_result"
    }
   ],
   "source": [
    "\"\"\"\n",
    "Read file into texts and calls.\n",
    "It's ok if you don't understand how to read files.\n",
    "\"\"\"\n",
    "import csv\n",
    "\n",
    "with open('texts.csv', 'r') as f:\n",
    "    reader = csv.reader(f)\n",
    "    texts = list(reader)\n",
    "\n",
    "with open('calls.csv', 'r') as f:\n",
    "    reader = csv.reader(f)\n",
    "    calls = list(reader)\n",
    "\n",
    "\"\"\"\n",
    "TASK 3:\n",
    "(080) is the area code for fixed line telephones in Bangalore.\n",
    "Fixed line numbers include parentheses, so Bangalore numbers\n",
    "have the form (080)xxxxxxx.)\n",
    "\n",
    "Part A: Find all of the area codes and mobile prefixes called by people\n",
    "in Bangalore.\n",
    " - Fixed lines start with an area code enclosed in brackets. The area\n",
    "   codes vary in length but always begin with 0.\n",
    " - Mobile numbers have no parentheses, but have a space in the middle\n",
    "   of the number to help readability. The prefix of a mobile number\n",
    "   is its first four digits, and they always start with 7, 8 or 9.\n",
    " - Telemarketers' numbers have no parentheses or space, but they start\n",
    "   with the area code 140.\n",
    "\n",
    "Print the answer as part of a message:\n",
    "\"The numbers called by people in Bangalore have codes:\"\n",
    " <list of codes>\n",
    "The list of codes should be print out one per line in lexicographic order with no duplicates.\n",
    "\n",
    "Part B: What percentage of calls from fixed lines in Bangalore are made\n",
    "to fixed lines also in Bangalore? In other words, of all the calls made\n",
    "from a number starting with \"(080)\", what percentage of these calls\n",
    "were made to a number also starting with \"(080)\"?\n",
    "\n",
    "Print the answer as a part of a message::\n",
    "\"<percentage> percent of calls from fixed lines in Bangalore are calls\n",
    "to other fixed lines in Bangalore.\"\n",
    "The percentage should have 2 decimal digits\n",
    "\"\"\"\n"
   ]
  },
  {
   "cell_type": "markdown",
   "metadata": {},
   "source": [
    "# Part A: Find all of the area codes and mobile prefixes called by people in Bangalore."
   ]
  },
  {
   "cell_type": "code",
   "execution_count": 4,
   "metadata": {},
   "outputs": [
    {
     "data": {
      "text/plain": [
       "[['78130 00821', '98453 94494', '1/9/2016 6:01', '186'],\n",
       " ['78298 91466', '(022)28952819', '1/9/2016 6:01', '2093'],\n",
       " ['97424 22395', '(022)47410783', '1/9/2016 6:03', '1975']]"
      ]
     },
     "execution_count": 4,
     "metadata": {},
     "output_type": "execute_result"
    }
   ],
   "source": [
    "calls[:3]"
   ]
  },
  {
   "cell_type": "code",
   "execution_count": 59,
   "metadata": {},
   "outputs": [
    {
     "data": {
      "text/plain": [
       "[['(080)45291968', '90365 06212', '1/9/2016 6:30', '9'],\n",
       " ['(080)62164823', '74066 93594', '1/9/2016 6:52', '300'],\n",
       " ['(080)67362492', '(04344)316423', '1/9/2016 7:24', '2258']]"
      ]
     },
     "execution_count": 59,
     "metadata": {},
     "output_type": "execute_result"
    }
   ],
   "source": [
    "Ba_calls = []\n",
    "for lst in calls:\n",
    "    if '080' in lst[0]:\n",
    "            Ba_calls.append(lst) \n",
    "Ba_calls[:3]"
   ]
  },
  {
   "cell_type": "code",
   "execution_count": 202,
   "metadata": {},
   "outputs": [
    {
     "data": {
      "text/plain": [
       "1080"
      ]
     },
     "execution_count": 202,
     "metadata": {},
     "output_type": "execute_result"
    }
   ],
   "source": [
    "len(Ba_calls)"
   ]
  },
  {
   "cell_type": "code",
   "execution_count": 67,
   "metadata": {},
   "outputs": [],
   "source": [
    "for i in calls:\n",
    "    if i[1][:3] =='140':\n",
    "        print(i[1][:3])"
   ]
  },
  {
   "cell_type": "code",
   "execution_count": 178,
   "metadata": {},
   "outputs": [
    {
     "name": "stdout",
     "output_type": "stream",
     "text": [
      "['(04344)316423', '(044)49481100', '(04344)316423'] ['9036', '7406', '9844'] []\n"
     ]
    }
   ],
   "source": [
    "Fixed = []\n",
    "Mobile = []\n",
    "Tele = []\n",
    "\n",
    "for i in Ba_calls:\n",
    "    if i[1][:2]=='(0':\n",
    "        Fixed.append(i[1])\n",
    "    elif '7' or '8' or '9' in i[1][0]:\n",
    "        Mobile.append(i[1][:4])\n",
    "    elif i[1][:3] =='140':\n",
    "        Tele.append(i[1][:3])\n",
    "    else:\n",
    "        print (None) \n",
    "        \n",
    "print (Fixed[:3], Mobile[:3], Tele[:3])    \n"
   ]
  },
  {
   "cell_type": "code",
   "execution_count": 186,
   "metadata": {},
   "outputs": [
    {
     "data": {
      "text/plain": [
       "['9036', '7406', '9844', '9844', '9900']"
      ]
     },
     "execution_count": 186,
     "metadata": {},
     "output_type": "execute_result"
    }
   ],
   "source": [
    "Mobile[:5]"
   ]
  },
  {
   "cell_type": "code",
   "execution_count": 188,
   "metadata": {},
   "outputs": [
    {
     "data": {
      "text/plain": [
       "680"
      ]
     },
     "execution_count": 188,
     "metadata": {},
     "output_type": "execute_result"
    }
   ],
   "source": [
    "len(Mobile)"
   ]
  },
  {
   "cell_type": "code",
   "execution_count": 184,
   "metadata": {},
   "outputs": [],
   "source": [
    "#Extracting the country codes \n",
    "import re\n",
    "\n",
    "codes = re.compile(r\"\\((\\d+)\\)\")\n",
    "co_codes = [ ''.join(codes.findall(code)) for code in Fixed ]"
   ]
  },
  {
   "cell_type": "code",
   "execution_count": 189,
   "metadata": {},
   "outputs": [
    {
     "data": {
      "text/plain": [
       "400"
      ]
     },
     "execution_count": 189,
     "metadata": {},
     "output_type": "execute_result"
    }
   ],
   "source": [
    "co_codes[:5]\n",
    "len(co_codes)"
   ]
  },
  {
   "cell_type": "code",
   "execution_count": 194,
   "metadata": {},
   "outputs": [
    {
     "data": {
      "text/plain": [
       "['04344', '044', '04344', '080', '080']"
      ]
     },
     "execution_count": 194,
     "metadata": {},
     "output_type": "execute_result"
    }
   ],
   "source": [
    "Total_codes = co_codes+ Mobile \n",
    "Total_codes[:5]"
   ]
  },
  {
   "cell_type": "code",
   "execution_count": 197,
   "metadata": {},
   "outputs": [
    {
     "name": "stdout",
     "output_type": "stream",
     "text": [
      "The numbers called by people in Bangalore have codes: ['04344', '044', '04344', '080', '080', '04344', '080', '080', '040', '080', '080', '080', '044', '080', '04344', '080', '040', '040', '080', '022', '080', '080', '04344', '022', '022', '080', '080', '080', '022', '080', '080', '080', '080', '040', '080', '080', '080', '080', '080', '080', '080', '080', '04344', '04546', '040', '080', '080', '080', '080', '080', '080', '080', '080', '080', '080', '080', '080', '080', '080', '022', '022', '04344', '080', '080', '080', '080', '040', '044', '044', '080', '044', '022', '080', '080', '080', '080', '080', '080', '040', '04344', '080', '080', '080', '0821', '080', '080', '080', '080', '080', '022', '040', '040', '040', '080', '080', '080', '0821', '080', '022', '080', '04344', '04344', '080', '080', '080', '04344', '080', '080', '044', '080', '080', '022', '080', '080', '080', '040', '080', '040', '080', '080', '040', '080', '080', '080', '040', '080', '080', '080', '044', '080', '04546', '080', '0821', '080', '040', '080', '080', '080', '080', '080', '080', '080', '04344', '0821', '080', '080', '080', '022', '022', '080', '04344', '080', '022', '080', '022', '080', '022', '080', '080', '040', '080', '022', '04344', '040', '080', '080', '080', '0821', '022', '080', '080', '080', '040', '080', '080', '080', '080', '080', '0821', '080', '044', '080', '080', '080', '080', '080', '040', '080', '080', '080', '022', '080', '04344', '080', '080', '080', '080', '080', '080', '040', '080', '080', '040', '040', '0821', '080', '080', '044', '040', '080', '080', '080', '080', '080', '080', '080', '04344', '044', '080', '080', '080', '080', '0821', '080', '080', '04344', '080', '080', '040', '040', '040', '080', '080', '04344', '080', '080', '0821', '080', '022', '080', '044', '044', '022', '080', '080', '080', '022', '04546', '080', '080', '04344', '022', '022', '080', '080', '04344', '080', '080', '080', '080', '080', '080', '04344', '080', '080', '080', '080', '080', '080', '044', '080', '080', '080', '040', '080', '080', '022', '080', '080', '080', '044', '080', '080', '022', '080', '080', '080', '040', '080', '080', '080', '080', '080', '080', '022', '080', '080', '080', '080', '040', '080', '080', '080', '080', '080', '080', '080', '080', '080', '080', '080', '080', '080', '080', '022', '022', '040', '080', '080', '080', '0821', '080', '04344', '080', '044', '080', '080', '022', '04344', '04344', '080', '022', '080', '080', '04344', '080', '040', '080', '044', '04344', '080', '080', '0821', '080', '080', '080', '080', '080', '022', '080', '044', '080', '080', '080', '080', '044', '080', '04344', '080', '080', '080', '080', '080', '080', '044', '080', '080', '022', '080', '080', '080', '080', '04344', '0471', '080', '080', '080', '080', '080', '022', '022', '04344', '080', '022', '080', '044', '080', '080', '080', '080', '022', '080', '080', '080', '080', '080', '080', '080', '080', '04344', '9036', '7406', '9844', '9844', '9900', '9740', '9738', '8151', '9008', '9844', '9035', '9526', '9844', '8431', '9844', '9844', '8151', '9900', '8714', '9241', '9900', '9341', '9844', '9741', '7406', '9008', '9342', '8301', '7406', '9738', '9961', '9844', '9019', '7829', '9019', '9343', '9241', '9341', '9844', '9341', '8151', '9741', '9900', '7813', '9844', '9844', '9844', '9008', '9019', '9844', '9526', '8151', '9019', '8431', '9844', '9035', '9845', '8431', '9035', '8152', '9400', '9844', '9400', '9844', '8714', '9343', '8151', '9845', '8714', '9035', '7406', '9844', '9844', '7406', '7795', '9740', '9900', '9400', '9341', '9242', '9844', '9448', '9036', '9242', '9036', '9844', '9844', '9342', '9845', '9900', '9241', '9035', '7406', '9342', '8431', '9741', '9400', '7406', '9008', '9844', '9242', '7813', '9526', '9400', '8151', '9342', '9844', '9008', '9448', '8431', '9844', '9844', '9400', '9241', '9242', '9241', '9526', '9844', '9241', '8431', '9008', '8431', '9740', '8151', '9019', '9241', '7829', '8431', '9526', '8151', '8151', '7406', '9019', '9342', '7829', '9036', '9738', '8301', '9740', '9242', '9019', '9242', '9019', '9242', '9740', '9738', '9400', '9526', '7829', '9035', '9242', '8431', '9900', '9400', '9341', '9656', '9448', '9241', '9740', '9900', '9241', '9008', '9449', '9241', '9844', '9341', '9008', '9844', '8151', '7829', '9036', '9845', '9400', '9656', '7829', '9019', '9844', '9526', '9741', '8151', '7813', '9019', '8151', '8151', '9400', '9845', '9740', '8431', '9400', '9008', '9845', '9526', '8151', '9448', '8714', '9036', '9035', '9741', '9844', '9844', '9035', '9844', '8431', '9008', '9741', '7406', '9342', '9741', '9844', '9449', '9242', '9342', '9741', '9845', '9844', '8431', '8714', '9448', '9400', '9740', '9526', '9844', '9019', '9400', '9844', '9844', '9343', '9400', '9844', '9242', '9844', '9448', '9526', '9448', '9741', '9008', '9448', '7406', '9845', '9526', '9242', '8151', '9341', '9526', '9241', '9341', '9400', '9449', '7795', '9844', '9740', '8431', '9844', '9448', '9844', '9019', '9900', '7813', '9035', '9449', '7829', '9448', '9343', '9900', '9036', '9008', '9448', '7829', '9741', '9019', '9845', '8151', '8431', '9845', '7406', '8151', '9343', '9844', '7795', '7406', '9740', '9449', '9900', '9342', '9241', '9400', '9741', '9035', '9342', '9844', '9241', '7406', '7406', '8151', '8431', '8431', '7829', '9844', '9035', '9342', '9844', '9740', '8151', '9845', '9019', '7829', '9035', '9448', '7406', '7795', '9448', '9738', '9241', '8151', '9844', '7406', '9448', '7406', '9449', '8151', '9740', '9008', '9738', '9844', '7813', '9738', '9019', '9400', '9036', '9844', '9242', '9741', '9845', '9448', '9844', '9341', '9738', '8151', '9740', '9241', '9035', '9035', '9019', '9526', '9741', '8431', '9740', '8152', '9035', '9448', '9844', '9449', '9008', '8151', '9740', '9844', '9241', '7829', '8151', '8151', '9844', '9526', '9342', '9448', '9742', '9526', '9341', '9844', '9008', '8431', '9449', '9449', '9449', '9738', '9036', '9900', '9343', '9241', '9900', '9019', '9844', '9241', '9035', '9900', '9343', '9400', '9448', '9449', '7406', '9019', '9741', '9341', '9449', '7829', '8151', '9035', '9241', '7406', '9741', '9448', '7829', '9844', '8151', '9844', '9400', '9738', '9449', '9526', '9342', '9900', '9448', '8151', '9019', '9740', '7829', '9526', '9008', '9448', '9526', '9242', '9900', '9019', '9526', '9656', '9844', '9738', '9526', '9738', '9448', '9741', '9019', '9341', '9400', '9019', '9844', '9844', '9019', '9448', '9035', '8151', '9342', '9241', '9844', '9036', '9844', '9526', '9741', '9526', '9961', '9845', '8151', '9845', '8431', '9242', '9738', '9008', '9448', '9844', '9449', '7829', '9449', '9844', '8151', '9036', '9738', '9242', '9844', '8151', '7829', '9036', '9844', '7406', '8151', '7406', '9844', '9019', '9738', '9656', '9036', '9449', '9019', '9343', '9019', '9019', '9036', '9019', '9400', '9342', '7406', '9844', '9242', '7406', '7795', '9019', '9740', '7406', '8151', '9844', '9741', '9738', '9526', '8301', '9342', '9400', '9241', '9844', '8152', '9844', '7406', '9449', '9008', '9448', '8431', '9738', '9900', '9008', '9900', '9844', '9242', '9844', '9008', '7406', '9019', '9740', '9448', '9036', '9342', '9448', '8151', '9844', '9448', '9738', '9845', '7406', '9741', '9526', '9740', '9845', '9900', '9448', '7829', '9740', '7829', '9448', '9341', '9008', '8152', '9448', '9900', '9844', '9526', '9741', '9035', '7406', '9019', '9019', '9845', '9844', '9738', '7829', '9241', '9741', '9740', '8151', '9019', '9844', '9035', '9342', '9741', '7406', '9900', '9343', '8431', '9740', '9019', '7813', '9019', '8431', '9036', '9742', '9242', '9448', '9844', '9844', '9844', '9019', '9019', '7406', '9844', '7829', '9656', '7829', '9343', '9241', '9241', '9656', '9742', '9526', '9526', '9008', '9008', '9341', '9738', '9008', '8431', '9019', '9019', '9656', '9036', '9526', '9036', '8151', '9741', '9019', '9742', '9741', '9844', '9526', '8151', '9341', '9844', '9740', '9740', '9844', '9035', '9961', '9035', '7795', '9400', '9738', '9741', '8151', '9740', '9008', '9526', '9526', '9844', '9242', '9242', '9241', '9035', '9740', '9900', '9740', '9449', '9035', '9738', '9844', '8714', '9035', '9036', '9342', '9742', '9526', '9900', '9400', '9738', '9900', '9448', '9738', '9449', '8151', '7795', '9343', '9035', '9241', '9035', '9741', '8152', '9019', '8714', '9900', '9448', '9844', '7813', '9844', '8431', '9341', '9036', '7406']\n"
     ]
    }
   ],
   "source": [
    "#The print Statement\n",
    "print (\"The numbers called by people in Bangalore have codes:\" ,Total_codes)"
   ]
  },
  {
   "cell_type": "markdown",
   "metadata": {},
   "source": [
    "# Part B: What percentage of calls from fixed lines in Bangalore are made to fixed lines also in Bangalore?"
   ]
  },
  {
   "cell_type": "code",
   "execution_count": 198,
   "metadata": {},
   "outputs": [],
   "source": [
    "#Iterate over Total_codes\n",
    "Ba =[]\n",
    "for code in Total_codes:\n",
    "    if '080' in code:\n",
    "        Ba.append(code)"
   ]
  },
  {
   "cell_type": "code",
   "execution_count": 201,
   "metadata": {},
   "outputs": [
    {
     "data": {
      "text/plain": [
       "268"
      ]
     },
     "execution_count": 201,
     "metadata": {},
     "output_type": "execute_result"
    }
   ],
   "source": [
    "len(Ba)"
   ]
  },
  {
   "cell_type": "code",
   "execution_count": 207,
   "metadata": {},
   "outputs": [
    {
     "data": {
      "text/plain": [
       "24.814814814814813"
      ]
     },
     "execution_count": 207,
     "metadata": {},
     "output_type": "execute_result"
    }
   ],
   "source": [
    "#Percentage of calls from Bangalore to Bangalore\n",
    "\n",
    "calls_per = (len(Ba)/len(Ba_calls))*100\n",
    "calls_per"
   ]
  },
  {
   "cell_type": "code",
   "execution_count": 208,
   "metadata": {},
   "outputs": [
    {
     "name": "stdout",
     "output_type": "stream",
     "text": [
      "24 percent of calls from fixed lines in Bangalore are calls to other fixed lines in Bangalore.\n"
     ]
    }
   ],
   "source": [
    "#The print Statement\n",
    "print (\"24 percent of calls from fixed lines in Bangalore are calls to other fixed lines in Bangalore.\")"
   ]
  }
 ],
 "metadata": {
  "kernelspec": {
   "display_name": "Python [conda env:Anac]",
   "language": "python",
   "name": "conda-env-Anac-py"
  },
  "language_info": {
   "codemirror_mode": {
    "name": "ipython",
    "version": 3
   },
   "file_extension": ".py",
   "mimetype": "text/x-python",
   "name": "python",
   "nbconvert_exporter": "python",
   "pygments_lexer": "ipython3",
   "version": "3.7.4"
  }
 },
 "nbformat": 4,
 "nbformat_minor": 4
}
