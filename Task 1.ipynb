{
 "cells": [
  {
   "cell_type": "code",
   "execution_count": 2,
   "metadata": {},
   "outputs": [
    {
     "data": {
      "text/plain": [
       "'\\nTASK 1:\\nHow many different telephone numbers are there in the records? \\nPrint a message:\\n\"There are <count> different telephone numbers in the records.\"\\n'"
      ]
     },
     "execution_count": 2,
     "metadata": {},
     "output_type": "execute_result"
    }
   ],
   "source": [
    "\"\"\"\n",
    "Read file into texts and calls.\n",
    "It's ok if you don't understand how to read files.\n",
    "\"\"\"\n",
    "import csv\n",
    "with open('texts.csv', 'r') as f:\n",
    "    reader = csv.reader(f)\n",
    "    texts = list(reader)\n",
    "\n",
    "with open('calls.csv', 'r') as f:\n",
    "    reader = csv.reader(f)\n",
    "    calls = list(reader)\n",
    "\n",
    "\n",
    "\"\"\"\n",
    "TASK 1:\n",
    "How many different telephone numbers are there in the records? \n",
    "Print a message:\n",
    "\"There are <count> different telephone numbers in the records.\"\n",
    "\"\"\"\n"
   ]
  },
  {
   "cell_type": "code",
   "execution_count": 3,
   "metadata": {},
   "outputs": [
    {
     "name": "stdout",
     "output_type": "stream",
     "text": [
      "5213\n",
      "9072\n"
     ]
    }
   ],
   "source": [
    "#Checking the length of the lists\n",
    "print(len(calls))\n",
    "print(len(texts))"
   ]
  },
  {
   "cell_type": "code",
   "execution_count": 4,
   "metadata": {},
   "outputs": [
    {
     "name": "stdout",
     "output_type": "stream",
     "text": [
      "14284\n"
     ]
    },
    {
     "data": {
      "text/plain": [
       "[['(011)21017178', '83015 22251', '15-09-2016 14:19:01', '156'],\n",
       " ['(011)21017178', '83015 22251', '27-09-2016 11:24:59', '215'],\n",
       " ['(011)21017178', '83015 22251', '28-09-2016 07:43:26', '771'],\n",
       " ['(011)21017178', '83015 22251', '30-09-2016 07:53:20', '316'],\n",
       " ['(011)68486606', '(080)32255824', '1/9/2016 12:19', '1686'],\n",
       " ['(011)68486606', '(080)32255824', '11/9/2016 11:42', '418'],\n",
       " ['(011)68486606', '(080)32255824', '11/9/2016 13:05', '9'],\n",
       " ['(011)68486606', '(080)32255824', '20-09-2016 21:08:58', '26'],\n",
       " ['(011)68486606', '(080)32255824', '22-09-2016 15:44:09', '184'],\n",
       " ['(011)68486606', '(080)32255824', '7/9/2016 12:08', '1787']]"
      ]
     },
     "execution_count": 4,
     "metadata": {},
     "output_type": "execute_result"
    }
   ],
   "source": [
    "import numpy as np \n",
    "\n",
    "#Grab and sort the unique values\n",
    "unique_text = list(np.unique(texts+calls))\n",
    "print(len(unique_text))\n",
    "unique_text[:10]"
   ]
  },
  {
   "cell_type": "code",
   "execution_count": 5,
   "metadata": {},
   "outputs": [],
   "source": [
    "#converting the list into pandas dataframe\n",
    "import pandas as pd\n",
    "\n",
    "unique_df =pd.DataFrame(unique_text) "
   ]
  },
  {
   "cell_type": "code",
   "execution_count": 6,
   "metadata": {},
   "outputs": [],
   "source": [
    "#group by the first two columns\n",
    "counts = unique_df.groupby([0, 1]).size().reset_index(name=(2))"
   ]
  },
  {
   "cell_type": "code",
   "execution_count": 112,
   "metadata": {},
   "outputs": [
    {
     "data": {
      "text/plain": [
       "897"
      ]
     },
     "execution_count": 112,
     "metadata": {},
     "output_type": "execute_result"
    }
   ],
   "source": [
    "#the length of the first column with duplicates\n",
    "len(counts[0])"
   ]
  },
  {
   "cell_type": "code",
   "execution_count": 7,
   "metadata": {},
   "outputs": [],
   "source": [
    "#droping the duplicates from the first column\n",
    "duplicates_1 = counts.drop_duplicates(subset=[0], keep ='first')"
   ]
  },
  {
   "cell_type": "code",
   "execution_count": 121,
   "metadata": {},
   "outputs": [
    {
     "data": {
      "text/plain": [
       "517"
      ]
     },
     "execution_count": 121,
     "metadata": {},
     "output_type": "execute_result"
    }
   ],
   "source": [
    "#the length of the first column without duplicates\n",
    "len(duplicates[0])"
   ]
  },
  {
   "cell_type": "code",
   "execution_count": 122,
   "metadata": {},
   "outputs": [
    {
     "data": {
      "text/plain": [
       "897"
      ]
     },
     "execution_count": 122,
     "metadata": {},
     "output_type": "execute_result"
    }
   ],
   "source": [
    "#the length of the second column with duplicates\n",
    "len(counts[1])"
   ]
  },
  {
   "cell_type": "code",
   "execution_count": 8,
   "metadata": {},
   "outputs": [],
   "source": [
    "#droping the duplicates from the second column\n",
    "duplicates_2 = counts.drop_duplicates(subset=[1], keep= 'first')"
   ]
  },
  {
   "cell_type": "code",
   "execution_count": 123,
   "metadata": {},
   "outputs": [
    {
     "data": {
      "text/plain": [
       "522"
      ]
     },
     "execution_count": 123,
     "metadata": {},
     "output_type": "execute_result"
    }
   ],
   "source": [
    "#the length of the second column without duplicates\n",
    "len(duplicates_2[1])"
   ]
  },
  {
   "cell_type": "markdown",
   "metadata": {},
   "source": [
    "# TASK 1"
   ]
  },
  {
   "cell_type": "code",
   "execution_count": 9,
   "metadata": {},
   "outputs": [
    {
     "name": "stdout",
     "output_type": "stream",
     "text": [
      "There are 1039 different telephone numbers in the records\n"
     ]
    }
   ],
   "source": [
    "#The number of different telephone numbers in records \n",
    "print ('There are', 517+522, 'different telephone numbers in the records')"
   ]
  }
 ],
 "metadata": {
  "kernelspec": {
   "display_name": "Python 3",
   "language": "python",
   "name": "python3"
  },
  "language_info": {
   "codemirror_mode": {
    "name": "ipython",
    "version": 3
   },
   "file_extension": ".py",
   "mimetype": "text/x-python",
   "name": "python",
   "nbconvert_exporter": "python",
   "pygments_lexer": "ipython3",
   "version": "3.7.7"
  }
 },
 "nbformat": 4,
 "nbformat_minor": 4
}
