{
 "cells": [
  {
   "cell_type": "code",
   "execution_count": 29,
   "metadata": {},
   "outputs": [
    {
     "data": {
      "text/plain": [
       "'\\nTASK 3:\\n(080) is the area code for fixed line telephones in Bangalore.\\nFixed line numbers include parentheses, so Bangalore numbers\\nhave the form (080)xxxxxxx.)\\n\\nPart A: Find all of the area codes and mobile prefixes called by people\\nin Bangalore.\\n - Fixed lines start with an area code enclosed in brackets. The area\\n   codes vary in length but always begin with 0.\\n - Mobile numbers have no parentheses, but have a space in the middle\\n   of the number to help readability. The prefix of a mobile number\\n   is its first four digits, and they always start with 7, 8 or 9.\\n - Telemarketers\\' numbers have no parentheses or space, but they start\\n   with the area code 140.\\n\\nPrint the answer as part of a message:\\n\"The numbers called by people in Bangalore have codes:\"\\n <list of codes>\\nThe list of codes should be print out one per line in lexicographic order with no duplicates.\\n\\nPart B: What percentage of calls from fixed lines in Bangalore are made\\nto fixed lines also in Bangalore? In other words, of all the calls made\\nfrom a number starting with \"(080)\", what percentage of these calls\\nwere made to a number also starting with \"(080)\"?\\n\\nPrint the answer as a part of a message::\\n\"<percentage> percent of calls from fixed lines in Bangalore are calls\\nto other fixed lines in Bangalore.\"\\nThe percentage should have 2 decimal digits\\n'"
      ]
     },
     "execution_count": 29,
     "metadata": {},
     "output_type": "execute_result"
    }
   ],
   "source": [
    "\"\"\"\n",
    "Read file into texts and calls.\n",
    "It's ok if you don't understand how to read files.\n",
    "\"\"\"\n",
    "import csv\n",
    "\n",
    "with open('texts.csv', 'r') as f:\n",
    "    reader = csv.reader(f)\n",
    "    texts = list(reader)\n",
    "\n",
    "with open('calls.csv', 'r') as f:\n",
    "    reader = csv.reader(f)\n",
    "    calls = list(reader)\n",
    "\n",
    "\"\"\"\n",
    "TASK 3:\n",
    "(080) is the area code for fixed line telephones in Bangalore.\n",
    "Fixed line numbers include parentheses, so Bangalore numbers\n",
    "have the form (080)xxxxxxx.)\n",
    "\n",
    "Part A: Find all of the area codes and mobile prefixes called by people\n",
    "in Bangalore.\n",
    " - Fixed lines start with an area code enclosed in brackets. The area\n",
    "   codes vary in length but always begin with 0.\n",
    " - Mobile numbers have no parentheses, but have a space in the middle\n",
    "   of the number to help readability. The prefix of a mobile number\n",
    "   is its first four digits, and they always start with 7, 8 or 9.\n",
    " - Telemarketers' numbers have no parentheses or space, but they start\n",
    "   with the area code 140.\n",
    "\n",
    "Print the answer as part of a message:\n",
    "\"The numbers called by people in Bangalore have codes:\"\n",
    " <list of codes>\n",
    "The list of codes should be print out one per line in lexicographic order with no duplicates.\n",
    "\n",
    "Part B: What percentage of calls from fixed lines in Bangalore are made\n",
    "to fixed lines also in Bangalore? In other words, of all the calls made\n",
    "from a number starting with \"(080)\", what percentage of these calls\n",
    "were made to a number also starting with \"(080)\"?\n",
    "\n",
    "Print the answer as a part of a message::\n",
    "\"<percentage> percent of calls from fixed lines in Bangalore are calls\n",
    "to other fixed lines in Bangalore.\"\n",
    "The percentage should have 2 decimal digits\n",
    "\"\"\"\n"
   ]
  },
  {
   "cell_type": "markdown",
   "metadata": {},
   "source": [
    "# Part A: Find all of the area codes and mobile prefixes called by people in Bangalore."
   ]
  },
  {
   "cell_type": "code",
   "execution_count": 30,
   "metadata": {},
   "outputs": [],
   "source": [
    "#Find the calls made form Bangalore\n",
    "Ba_calls = []\n",
    "for lst in calls:\n",
    "    if '080' in lst[0]:\n",
    "            Ba_calls.append(lst) "
   ]
  },
  {
   "cell_type": "code",
   "execution_count": 31,
   "metadata": {},
   "outputs": [],
   "source": [
    "#grabing the numbers codes who recieved calls from Bangalore\n",
    "\n",
    "Fixed = []\n",
    "Mobile = []\n",
    "Tele = []\n",
    "\n",
    "for i in Ba_calls:\n",
    "    if i[1][:2]=='(0':\n",
    "        Fixed.append(i[1])\n",
    "    elif '7' or '8' or '9' in i[1][0]:\n",
    "        Mobile.append(i[1][:4])\n",
    "    elif i[1][:3] =='140':\n",
    "        Tele.append(i[1][:3])"
   ]
  },
  {
   "cell_type": "code",
   "execution_count": 32,
   "metadata": {},
   "outputs": [],
   "source": [
    "#Extracting the country codes \n",
    "import re\n",
    "\n",
    "codes = re.compile(r\"\\((\\d+)\\)\")\n",
    "co_codes = [ ''.join(codes.findall(code)) for code in Fixed ]"
   ]
  },
  {
   "cell_type": "code",
   "execution_count": 33,
   "metadata": {},
   "outputs": [],
   "source": [
    "Total = co_codes+ Mobile \n",
    "codes = set(Total)\n",
    "Total_codes= sorted(codes)"
   ]
  },
  {
   "cell_type": "markdown",
   "metadata": {},
   "source": [
    "# TASK 3 - A"
   ]
  },
  {
   "cell_type": "code",
   "execution_count": 34,
   "metadata": {},
   "outputs": [
    {
     "name": "stdout",
     "output_type": "stream",
     "text": [
      "The numbers called by people in Bangalore have codes:\n",
      "022\n",
      "040\n",
      "04344\n",
      "044\n",
      "04546\n",
      "0471\n",
      "080\n",
      "0821\n",
      "7406\n",
      "7795\n",
      "7813\n",
      "7829\n",
      "8151\n",
      "8152\n",
      "8301\n",
      "8431\n",
      "8714\n",
      "9008\n",
      "9019\n",
      "9035\n",
      "9036\n",
      "9241\n",
      "9242\n",
      "9341\n",
      "9342\n",
      "9343\n",
      "9400\n",
      "9448\n",
      "9449\n",
      "9526\n",
      "9656\n",
      "9738\n",
      "9740\n",
      "9741\n",
      "9742\n",
      "9844\n",
      "9845\n",
      "9900\n",
      "9961\n"
     ]
    }
   ],
   "source": [
    "#The print Statement\n",
    "print (\"The numbers called by people in Bangalore have codes:\" ,*Total_codes,sep='\\n')"
   ]
  },
  {
   "cell_type": "markdown",
   "metadata": {},
   "source": [
    "# Part B: What percentage of calls from fixed lines in Bangalore are made to fixed lines also in Bangalore?"
   ]
  },
  {
   "cell_type": "code",
   "execution_count": 35,
   "metadata": {},
   "outputs": [],
   "source": [
    "#Iterate over Total_codes\n",
    "Ba =[]\n",
    "for code in Total:\n",
    "    if '080' in code:\n",
    "        Ba.append(code)"
   ]
  },
  {
   "cell_type": "code",
   "execution_count": 36,
   "metadata": {},
   "outputs": [],
   "source": [
    "#Percentage of calls from Bangalore to Bangalore\n",
    "\n",
    "calls_per = (len(Ba)/len(Ba_calls))*100\n",
    "percent ='%.2f'%calls_per"
   ]
  },
  {
   "cell_type": "markdown",
   "metadata": {},
   "source": [
    "# TASK 3 - B"
   ]
  },
  {
   "cell_type": "code",
   "execution_count": 37,
   "metadata": {},
   "outputs": [
    {
     "name": "stdout",
     "output_type": "stream",
     "text": [
      "24.81 percent of calls from fixed lines in Bangalore are calls to other fixed lines in Bangalore\n"
     ]
    }
   ],
   "source": [
    "#The print Statement\n",
    "print (\"{} percent of calls from fixed lines in Bangalore are calls to other fixed lines in Bangalore\".format(percent))"
   ]
  }
 ],
 "metadata": {
  "kernelspec": {
   "display_name": "Python [conda env:Anac]",
   "language": "python",
   "name": "conda-env-Anac-py"
  },
  "language_info": {
   "codemirror_mode": {
    "name": "ipython",
    "version": 3
   },
   "file_extension": ".py",
   "mimetype": "text/x-python",
   "name": "python",
   "nbconvert_exporter": "python",
   "pygments_lexer": "ipython3",
   "version": "3.7.4"
  }
 },
 "nbformat": 4,
 "nbformat_minor": 4
}
